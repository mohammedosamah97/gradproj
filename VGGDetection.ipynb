{
  "cells": [
    {
      "cell_type": "code",
      "execution_count": 1,
      "metadata": {
        "id": "BMrRRyd8Bc0J"
      },
      "outputs": [],
      "source": [
        "import pickle"
      ]
    },
    {
      "cell_type": "code",
      "execution_count": 2,
      "metadata": {
        "colab": {
          "base_uri": "https://localhost:8080/"
        },
        "id": "YCrPqCH6B1P1",
        "outputId": "acdc35d6-03cc-45de-c836-a28882a1d968"
      },
      "outputs": [],
      "source": [
        "# from google.colab import drive\n",
        "# drive.mount('/content/drive')"
      ]
    },
    {
      "cell_type": "code",
      "execution_count": 3,
      "metadata": {
        "colab": {
          "base_uri": "https://localhost:8080/",
          "height": 140
        },
        "id": "54pIbIHtgBcg",
        "outputId": "1bbf2763-728d-488c-db68-064616bc6d32"
      },
      "outputs": [],
      "source": [
        "from PIL import Image\n",
        "import cv2  \n",
        "import glob\n",
        "import time\n",
        "# import cv2\n",
        "#from google.colab.patches import cv2_imshow  \n",
        "img_number=0\n",
        "# Load the cascade  \n",
        "face_cascade=cv2.CascadeClassifier(cv2.data.haarcascades + \"haarcascade_frontalface_default.xml\")\n",
        "#file path\n",
        "path='D:/semester7/graduation project/Website (1)/preprocessing/'  \n",
        "all_videos=glob.glob(path + \"*mp4\")\n",
        "li=[]\n",
        "counter=0\n",
        "for video in all_videos:\n",
        "  # To capture video from existing video.  \n",
        "  cap = cv2.VideoCapture(video)  \n",
        "  counter=counter+1\n",
        "  print(counter)\n",
        "  #while True:  \n",
        "    # Read the frame \n",
        "  _, img = cap.read()     \n",
        "  _, img = cap.read()\n",
        "  #cv2_imshow(img)  \n",
        "    # Convert to grayscale  \n",
        "    #gray = cv2.cvtColor(img, cv2.COLOR_BGR2GRAY)  \n",
        " \n",
        "    # Detect the faces  \n",
        "  faces = face_cascade.detectMultiScale(img, scaleFactor=1.1, minNeighbors=2)  \n",
        "  wmax=0\n",
        "  hmax=0\n",
        "  ImageFolder ='D:/semester7/graduation project/Website (1)/faceimg/'\n",
        "    # Draw the rectangle around each face  \n",
        "  for (x, y, w, h) in faces: \n",
        "    if w>wmax and h>hmax:\n",
        "      wmax=w\n",
        "      hmax=h\n",
        "  #print(wmax)\n",
        "  #print(hmax)\n",
        "  for (x, y, w, h) in faces: \n",
        "    img_number=img_number+1\n",
        "    if w == wmax and h==hmax : \n",
        "        cv2.rectangle(img, (x, y), (x+w, y+h), (255, 0, 0), 1)  \n",
        "        crop_img = img[y:y+h, x:x+w]\n",
        "        li.append(crop_img)\n",
        "        cv2.imwrite(\"D:/semester7/graduation project/Website (1)/faceimg/\"+str(\"image\")+\".jpg\",crop_img)\n",
        "        #crop_img = crop_img.save(\"/content/gdrive/MyDrive/Fake-Face-Detection-DeepFakes-CNN-master/faces/trainimage_\"+str(img_number)+\".jpg\")\n",
        "        #test=cv2.imwrite('/content/gdrive/MyDrive/Fake-Face-Detection-DeepFakes-CNN-master/faces/train/image_{i}.png',crop_img)\n",
        "        #print(test)\n",
        "        \n",
        "    # Display  \n",
        "        cv2_imshow(crop_img) \n",
        "        #img.save('/content/gdrive/MyDrive/Fake-Face-Detection-DeepFakes-CNN-master/faces/train'+ crop_img , 'JPEG')\n",
        "    # Stop if escape key is pressed  \n",
        "  k = cv2.waitKey(1000) & 0xff  \n",
        "  if k==27:  \n",
        "        break  \n",
        "         \n",
        "# Release the VideoCapture object  \n",
        "  cap.release()"
      ]
    },
    {
      "cell_type": "code",
      "execution_count": 4,
      "metadata": {
        "colab": {
          "base_uri": "https://localhost:8080/",
          "height": 165
        },
        "id": "VPw9ZL0mBnAT",
        "outputId": "b122b746-9119-4530-cdf7-cc45e603e450"
      },
      "outputs": [
        {
          "ename": "FileNotFoundError",
          "evalue": "[Errno 2] No such file or directory: 'D:/semester7/graduation project/Website (1)/model23.pkl'",
          "output_type": "error",
          "traceback": [
            "\u001b[1;31m---------------------------------------------------------------------------\u001b[0m",
            "\u001b[1;31mFileNotFoundError\u001b[0m                         Traceback (most recent call last)",
            "Cell \u001b[1;32mIn[4], line 1\u001b[0m\n\u001b[1;32m----> 1\u001b[0m pickled_model \u001b[39m=\u001b[39m pickle\u001b[39m.\u001b[39mload(\u001b[39mopen\u001b[39;49m(\u001b[39m'\u001b[39;49m\u001b[39mD:/semester7/graduation project/Website (1)/model23.pkl\u001b[39;49m\u001b[39m'\u001b[39;49m, \u001b[39m'\u001b[39;49m\u001b[39mrb\u001b[39;49m\u001b[39m'\u001b[39;49m))\n",
            "File \u001b[1;32mc:\\Users\\moham\\AppData\\Local\\Programs\\Python\\Python311\\Lib\\site-packages\\IPython\\core\\interactiveshell.py:284\u001b[0m, in \u001b[0;36m_modified_open\u001b[1;34m(file, *args, **kwargs)\u001b[0m\n\u001b[0;32m    277\u001b[0m \u001b[39mif\u001b[39;00m file \u001b[39min\u001b[39;00m {\u001b[39m0\u001b[39m, \u001b[39m1\u001b[39m, \u001b[39m2\u001b[39m}:\n\u001b[0;32m    278\u001b[0m     \u001b[39mraise\u001b[39;00m \u001b[39mValueError\u001b[39;00m(\n\u001b[0;32m    279\u001b[0m         \u001b[39mf\u001b[39m\u001b[39m\"\u001b[39m\u001b[39mIPython won\u001b[39m\u001b[39m'\u001b[39m\u001b[39mt let you open fd=\u001b[39m\u001b[39m{\u001b[39;00mfile\u001b[39m}\u001b[39;00m\u001b[39m by default \u001b[39m\u001b[39m\"\u001b[39m\n\u001b[0;32m    280\u001b[0m         \u001b[39m\"\u001b[39m\u001b[39mas it is likely to crash IPython. If you know what you are doing, \u001b[39m\u001b[39m\"\u001b[39m\n\u001b[0;32m    281\u001b[0m         \u001b[39m\"\u001b[39m\u001b[39myou can use builtins\u001b[39m\u001b[39m'\u001b[39m\u001b[39m open.\u001b[39m\u001b[39m\"\u001b[39m\n\u001b[0;32m    282\u001b[0m     )\n\u001b[1;32m--> 284\u001b[0m \u001b[39mreturn\u001b[39;00m io_open(file, \u001b[39m*\u001b[39;49margs, \u001b[39m*\u001b[39;49m\u001b[39m*\u001b[39;49mkwargs)\n",
            "\u001b[1;31mFileNotFoundError\u001b[0m: [Errno 2] No such file or directory: 'D:/semester7/graduation project/Website (1)/model23.pkl'"
          ]
        }
      ],
      "source": [
        "pickled_model = pickle.load(open('D:/semester7/graduation project/Website (1)/model23.pkl', 'rb'))"
      ]
    },
    {
      "cell_type": "code",
      "execution_count": null,
      "metadata": {
        "colab": {
          "base_uri": "https://localhost:8080/",
          "height": 235
        },
        "id": "XqrY-sBSIWMo",
        "outputId": "3a984d2c-7d7c-4d23-acaf-f6a1e3125e0d"
      },
      "outputs": [
        {
          "ename": "NameError",
          "evalue": "name 'pickled_model' is not defined",
          "output_type": "error",
          "traceback": [
            "\u001b[1;31m---------------------------------------------------------------------------\u001b[0m",
            "\u001b[1;31mNameError\u001b[0m                                 Traceback (most recent call last)",
            "\u001b[1;32m~\\AppData\\Local\\Temp/ipykernel_18484/1018536599.py\u001b[0m in \u001b[0;36m<module>\u001b[1;34m\u001b[0m\n\u001b[0;32m      2\u001b[0m \u001b[1;32mimport\u001b[0m \u001b[0mcv2\u001b[0m\u001b[1;33m\u001b[0m\u001b[1;33m\u001b[0m\u001b[0m\n\u001b[0;32m      3\u001b[0m \u001b[1;32mimport\u001b[0m \u001b[0mnumpy\u001b[0m \u001b[1;32mas\u001b[0m \u001b[0mnp\u001b[0m\u001b[1;33m\u001b[0m\u001b[1;33m\u001b[0m\u001b[0m\n\u001b[1;32m----> 4\u001b[1;33m pickled_model.compile(loss='binary_crossentropy',\n\u001b[0m\u001b[0;32m      5\u001b[0m               \u001b[0moptimizer\u001b[0m\u001b[1;33m=\u001b[0m\u001b[1;34m'rmsprop'\u001b[0m\u001b[1;33m,\u001b[0m\u001b[1;33m\u001b[0m\u001b[1;33m\u001b[0m\u001b[0m\n\u001b[0;32m      6\u001b[0m               metrics=['accuracy'])\n",
            "\u001b[1;31mNameError\u001b[0m: name 'pickled_model' is not defined"
          ]
        }
      ],
      "source": [
        "from keras.models import load_model\n",
        "import cv2\n",
        "import numpy as np\n",
        "pickled_model.compile(loss='binary_crossentropy',\n",
        "              optimizer='rmsprop',\n",
        "              metrics=['accuracy'])\n",
        "\n",
        "img = cv2.imread('/content/drive/MyDrive/faceimg/image.jpg')\n",
        "gray=cv2.cvtColor(img, cv2.COLOR_BGR2GRAY)\n",
        "gray = cv2.resize(gray,(128,128))\n",
        "img = np.reshape(gray,[-1,128,128,1])\n",
        "# img2 =gray.reshape(-1, 128, 128, 1)\n",
        "final_image = np.expand_dims(img, axis=-1) \n",
        "final_image = np.reshape(final_image, (1, final_image.shape[0], final_image.shape[1],1))\n",
        "\n",
        "# image = np.array(Image.open(\"/content/drive/MyDrive/Fake-Face-Detection-DeepFakes-CNN-master/faces/train/image_1007.jpg\").resize((96, 96)))\n",
        "images_list = []\n",
        "images_list.append(np.array(final_image))\n",
        "x = np.asarray(images_list)\n",
        "pr_mask = pickled_model.predict(x).round()\n",
        "\n",
        "# plt.imshow(\n",
        "# pr_mask[0]\n",
        "# )\n",
        "# plt.show()\n",
        "print(pr_mask[0])\n",
        "#classes = pickled_model.predict_classes(img)\n",
        "#predict_x=pickled_model.predict(img) \n",
        "#classes_x=np.argmax(predict_x,axis=1)\n",
        "\n",
        "#print (predict_x)"
      ]
    },
    {
      "cell_type": "code",
      "execution_count": null,
      "metadata": {
        "id": "JesY7f5WGA1n"
      },
      "outputs": [],
      "source": []
    },
    {
      "cell_type": "code",
      "execution_count": null,
      "metadata": {
        "id": "W8xv8VV2FG-t"
      },
      "outputs": [],
      "source": [
        "from PIL import Image\n",
        "import cv2  \n",
        "import glob\n",
        "import time\n",
        "from google.colab.patches import cv2_imshow  \n",
        "img_number=0\n",
        "# Load the cascade  \n",
        "face_cascade=cv2.CascadeClassifier(cv2.data.haarcascades + \"haarcascade_frontalface_default.xml\")\n",
        "#file path\n",
        "path='/content/drive/MyDrive/Fake-Face-Detection-DeepFakes-CNN-master/videos/train_sample_videos/aagfhgtpmv.mp4'  \n",
        "all_videos=glob.glob(path + \"*mp4\")\n",
        "li=[]\n",
        "counter=0\n",
        "for video in all_videos:\n",
        "  # To capture video from existing video.  \n",
        "  cap = cv2.VideoCapture(video)  \n",
        "  counter=counter+1\n",
        "  print(counter)\n",
        "  #while True:  \n",
        "    # Read the frame \n",
        "  _, img = cap.read()     \n",
        "  _, img = cap.read()\n",
        "  #cv2_imshow(img)  \n",
        "    # Convert to grayscale  \n",
        "    #gray = cv2.cvtColor(img, cv2.COLOR_BGR2GRAY)  \n",
        " \n",
        "    # Detect the faces  \n",
        "  faces = face_cascade.detectMultiScale(img, scaleFactor=1.1, minNeighbors=2)  \n",
        "  wmax=0\n",
        "  hmax=0\n",
        "  #ImageFolder ='/content/gdrive/MyDrive/Fake-Face-Detection-DeepFakes-CNN-master/faces/train'\n",
        "    # Draw the rectangle around each face  \n",
        "  for (x, y, w, h) in faces: \n",
        "    if w>wmax and h>hmax:\n",
        "      wmax=w\n",
        "      hmax=h\n",
        "  #print(wmax)\n",
        "  #print(hmax)\n",
        "  for (x, y, w, h) in faces: \n",
        "    img_number=img_number+1\n",
        "    if w == wmax and h==hmax : \n",
        "        cv2.rectangle(img, (x, y), (x+w, y+h), (255, 0, 0), 1)  \n",
        "        crop_img = img[y:y+h, x:x+w]\n",
        "        li.append(crop_img)\n",
        "        cv2.imwrite(\"/content/gdrive/MyDrive/Fake-Face-Detection-DeepFakes-CNN-master/faces/train/image_\"+str(img_number)+\".jpg\",crop_img)\n",
        "        #crop_img = crop_img.save(\"/content/gdrive/MyDrive/Fake-Face-Detection-DeepFakes-CNN-master/faces/trainimage_\"+str(img_number)+\".jpg\")\n",
        "        #test=cv2.imwrite('/content/gdrive/MyDrive/Fake-Face-Detection-DeepFakes-CNN-master/faces/train/image_{i}.png',crop_img)\n",
        "        #print(test)\n",
        "        \n",
        "    # Display  \n",
        "        cv2_imshow(crop_img) \n",
        "        #img.save('/content/gdrive/MyDrive/Fake-Face-Detection-DeepFakes-CNN-master/faces/train'+ crop_img , 'JPEG')\n",
        "    # Stop if escape key is pressed  \n",
        "  k = cv2.waitKey(1000) & 0xff  \n",
        "  if k==27:  \n",
        "        break  \n",
        "         \n",
        "# Release the VideoCapture object  \n",
        "  cap.release()"
      ]
    }
  ],
  "metadata": {
    "colab": {
      "provenance": []
    },
    "kernelspec": {
      "display_name": "base",
      "language": "python",
      "name": "python3"
    },
    "language_info": {
      "codemirror_mode": {
        "name": "ipython",
        "version": 3
      },
      "file_extension": ".py",
      "mimetype": "text/x-python",
      "name": "python",
      "nbconvert_exporter": "python",
      "pygments_lexer": "ipython3",
      "version": "3.11.1"
    },
    "vscode": {
      "interpreter": {
        "hash": "ad2bdc8ecc057115af97d19610ffacc2b4e99fae6737bb82f5d7fb13d2f2c186"
      }
    }
  },
  "nbformat": 4,
  "nbformat_minor": 0
}
